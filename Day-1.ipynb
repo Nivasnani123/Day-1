{
 "cells": [
  {
   "cell_type": "code",
   "execution_count": 1,
   "id": "8343432f",
   "metadata": {},
   "outputs": [
    {
     "name": "stdout",
     "output_type": "stream",
     "text": [
      "Integer Variable: 10 - Type: <class 'int'>\n",
      "Float Variable: 20.5 - Type: <class 'float'>\n",
      "String Variable: Hello, Vamshi! - Type: <class 'str'>\n",
      "Boolean Variable: True - Type: <class 'bool'>\n"
     ]
    }
   ],
   "source": [
    "# Declare variables of different data types\n",
    "integer_var = 10          \n",
    "float_var = 20.5           \n",
    "string_var = \"Hello, Vamshi!\"  \n",
    "boolean_var = True         \n",
    "\n",
    "\n",
    "print(\"Integer Variable:\", integer_var, \"- Type:\", type(integer_var))\n",
    "print(\"Float Variable:\", float_var, \"- Type:\", type(float_var))\n",
    "print(\"String Variable:\", string_var, \"- Type:\", type(string_var))\n",
    "print(\"Boolean Variable:\", boolean_var, \"- Type:\", type(boolean_var))\n"
   ]
  },
  {
   "cell_type": "code",
   "execution_count": null,
   "id": "c1361fe7",
   "metadata": {},
   "outputs": [],
   "source": []
  }
 ],
 "metadata": {
  "kernelspec": {
   "display_name": "Python 3 (ipykernel)",
   "language": "python",
   "name": "python3"
  },
  "language_info": {
   "codemirror_mode": {
    "name": "ipython",
    "version": 3
   },
   "file_extension": ".py",
   "mimetype": "text/x-python",
   "name": "python",
   "nbconvert_exporter": "python",
   "pygments_lexer": "ipython3",
   "version": "3.11.4"
  }
 },
 "nbformat": 4,
 "nbformat_minor": 5
}
